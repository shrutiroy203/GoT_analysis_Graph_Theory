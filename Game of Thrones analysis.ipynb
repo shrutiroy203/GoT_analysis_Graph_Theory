{
 "cells": [
  {
   "cell_type": "code",
   "execution_count": 194,
   "id": "patent-teddy",
   "metadata": {},
   "outputs": [],
   "source": [
    "import networkx as nx\n",
    "import pandas as pd\n",
    "import matplotlib.pyplot as plt\n",
    "from pyvis.network import Network\n",
    "%matplotlib inline\n"
   ]
  },
  {
   "cell_type": "markdown",
   "id": "published-softball",
   "metadata": {},
   "source": [
    "## 1. Loading the dataset"
   ]
  },
  {
   "cell_type": "code",
   "execution_count": 36,
   "id": "fancy-laptop",
   "metadata": {},
   "outputs": [],
   "source": [
    "df_book1=pd.read_csv(\"/Users/tarunayroy/Desktop/asoiaf/data/asoiaf-book1-edges.csv\")\n",
    "df_book2=pd.read_csv(\"/Users/tarunayroy/Desktop/asoiaf/data/asoiaf-book2-edges.csv\")\n",
    "df_book3=pd.read_csv(\"/Users/tarunayroy/Desktop/asoiaf/data/asoiaf-book3-edges.csv\")\n",
    "df_book4=pd.read_csv(\"/Users/tarunayroy/Desktop/asoiaf/data/asoiaf-book4-edges.csv\")\n",
    "df_book5=pd.read_csv(\"/Users/tarunayroy/Desktop/asoiaf/data/asoiaf-book5-edges.csv\")"
   ]
  },
  {
   "cell_type": "code",
   "execution_count": 39,
   "id": "south-intensity",
   "metadata": {},
   "outputs": [],
   "source": [
    "## Source and target are two nodes, that are connected by an edge. \n",
    "## The edge represents the number of times in the book two characters co-occur"
   ]
  },
  {
   "cell_type": "code",
   "execution_count": 40,
   "id": "correct-congress",
   "metadata": {},
   "outputs": [
    {
     "data": {
      "text/html": [
       "<div>\n",
       "<style scoped>\n",
       "    .dataframe tbody tr th:only-of-type {\n",
       "        vertical-align: middle;\n",
       "    }\n",
       "\n",
       "    .dataframe tbody tr th {\n",
       "        vertical-align: top;\n",
       "    }\n",
       "\n",
       "    .dataframe thead th {\n",
       "        text-align: right;\n",
       "    }\n",
       "</style>\n",
       "<table border=\"1\" class=\"dataframe\">\n",
       "  <thead>\n",
       "    <tr style=\"text-align: right;\">\n",
       "      <th></th>\n",
       "      <th>Source</th>\n",
       "      <th>Target</th>\n",
       "      <th>Type</th>\n",
       "      <th>weight</th>\n",
       "      <th>book</th>\n",
       "    </tr>\n",
       "  </thead>\n",
       "  <tbody>\n",
       "    <tr>\n",
       "      <th>0</th>\n",
       "      <td>Addam-Marbrand</td>\n",
       "      <td>Jaime-Lannister</td>\n",
       "      <td>Undirected</td>\n",
       "      <td>3</td>\n",
       "      <td>1</td>\n",
       "    </tr>\n",
       "    <tr>\n",
       "      <th>1</th>\n",
       "      <td>Addam-Marbrand</td>\n",
       "      <td>Tywin-Lannister</td>\n",
       "      <td>Undirected</td>\n",
       "      <td>6</td>\n",
       "      <td>1</td>\n",
       "    </tr>\n",
       "    <tr>\n",
       "      <th>2</th>\n",
       "      <td>Aegon-I-Targaryen</td>\n",
       "      <td>Daenerys-Targaryen</td>\n",
       "      <td>Undirected</td>\n",
       "      <td>5</td>\n",
       "      <td>1</td>\n",
       "    </tr>\n",
       "    <tr>\n",
       "      <th>3</th>\n",
       "      <td>Aegon-I-Targaryen</td>\n",
       "      <td>Eddard-Stark</td>\n",
       "      <td>Undirected</td>\n",
       "      <td>4</td>\n",
       "      <td>1</td>\n",
       "    </tr>\n",
       "  </tbody>\n",
       "</table>\n",
       "</div>"
      ],
      "text/plain": [
       "              Source              Target        Type  weight  book\n",
       "0     Addam-Marbrand     Jaime-Lannister  Undirected       3     1\n",
       "1     Addam-Marbrand     Tywin-Lannister  Undirected       6     1\n",
       "2  Aegon-I-Targaryen  Daenerys-Targaryen  Undirected       5     1\n",
       "3  Aegon-I-Targaryen        Eddard-Stark  Undirected       4     1"
      ]
     },
     "execution_count": 40,
     "metadata": {},
     "output_type": "execute_result"
    }
   ],
   "source": [
    "df_book1.head(4)"
   ]
  },
  {
   "cell_type": "markdown",
   "id": "simplified-withdrawal",
   "metadata": {},
   "source": [
    "## 2. Creating network for Game of Thrones"
   ]
  },
  {
   "cell_type": "code",
   "execution_count": 43,
   "id": "interesting-hollow",
   "metadata": {},
   "outputs": [],
   "source": [
    "G=nx.Graph()"
   ]
  },
  {
   "cell_type": "code",
   "execution_count": 44,
   "id": "middle-mobility",
   "metadata": {},
   "outputs": [],
   "source": [
    "df_books=[df_book1,df_book2,df_book3,df_book4,df_book5]"
   ]
  },
  {
   "cell_type": "code",
   "execution_count": 49,
   "id": "serial-harbor",
   "metadata": {},
   "outputs": [],
   "source": [
    "books_network=[]"
   ]
  },
  {
   "cell_type": "code",
   "execution_count": 52,
   "id": "proprietary-titanium",
   "metadata": {},
   "outputs": [],
   "source": [
    "for book in df_books:\n",
    "    G_book = nx.Graph()\n",
    "    for _,edge in book.iterrows():\n",
    "        G_book.add_edge(edge['Source'],edge['Target'],weight=edge['weight'])\n",
    "    books_network.append(G_book)"
   ]
  },
  {
   "cell_type": "code",
   "execution_count": 254,
   "id": "superb-prevention",
   "metadata": {},
   "outputs": [],
   "source": [
    "### We have all 5 books in a network"
   ]
  },
  {
   "cell_type": "code",
   "execution_count": 255,
   "id": "heard-disorder",
   "metadata": {},
   "outputs": [
    {
     "data": {
      "text/plain": [
       "[<networkx.classes.graph.Graph at 0x7fd44def8e20>,\n",
       " <networkx.classes.graph.Graph at 0x7fd44deaef70>,\n",
       " <networkx.classes.graph.Graph at 0x7fd44d648550>,\n",
       " <networkx.classes.graph.Graph at 0x7fd44e071850>,\n",
       " <networkx.classes.graph.Graph at 0x7fd44ba7c550>]"
      ]
     },
     "execution_count": 255,
     "metadata": {},
     "output_type": "execute_result"
    }
   ],
   "source": [
    "books_network"
   ]
  },
  {
   "cell_type": "markdown",
   "id": "boring-fisher",
   "metadata": {},
   "source": [
    "## 3.Visualizing the graphs in Pyvis"
   ]
  },
  {
   "cell_type": "markdown",
   "id": "thick-sheriff",
   "metadata": {},
   "source": [
    "### Visualising the first book\n"
   ]
  },
  {
   "cell_type": "code",
   "execution_count": 197,
   "id": "green-estimate",
   "metadata": {},
   "outputs": [
    {
     "data": {
      "text/html": [
       "\n",
       "        <iframe\n",
       "            width=\"500px\"\n",
       "            height=\"500px\"\n",
       "            src=\"book1.html\"\n",
       "            frameborder=\"0\"\n",
       "            allowfullscreen\n",
       "        ></iframe>\n",
       "        "
      ],
      "text/plain": [
       "<IPython.lib.display.IFrame at 0x7fd44e268f40>"
      ]
     },
     "execution_count": 197,
     "metadata": {},
     "output_type": "execute_result"
    }
   ],
   "source": [
    "net=Network(notebook=True)\n",
    "net.from_nx(books_network[0])\n",
    "net.show(\"book1.html\")"
   ]
  },
  {
   "cell_type": "raw",
   "id": "electoral-pipeline",
   "metadata": {},
   "source": [
    "## Who were the top 5 important characters in each book?"
   ]
  },
  {
   "cell_type": "markdown",
   "id": "popular-tiger",
   "metadata": {},
   "source": [
    "## 4.1 Character importance using Degree Centrality"
   ]
  },
  {
   "cell_type": "code",
   "execution_count": 89,
   "id": "surgical-measure",
   "metadata": {},
   "outputs": [
    {
     "name": "stdout",
     "output_type": "stream",
     "text": [
      "book1:\n",
      "\n",
      "Eddard-Stark\n",
      "Robert-Baratheon\n",
      "Tyrion-Lannister\n",
      "Catelyn-Stark\n",
      "Jon-Snow\n",
      "\n",
      "book2:\n",
      "\n",
      "Tyrion-Lannister\n",
      "Joffrey-Baratheon\n",
      "Cersei-Lannister\n",
      "Arya-Stark\n",
      "Stannis-Baratheon\n",
      "\n",
      "book3:\n",
      "\n",
      "Tyrion-Lannister\n",
      "Jon-Snow\n",
      "Joffrey-Baratheon\n",
      "Robb-Stark\n",
      "Sansa-Stark\n",
      "\n",
      "book4:\n",
      "\n",
      "Jaime-Lannister\n",
      "Cersei-Lannister\n",
      "Brienne-of-Tarth\n",
      "Tyrion-Lannister\n",
      "Margaery-Tyrell\n",
      "\n",
      "book5:\n",
      "\n",
      "Jon-Snow\n",
      "Daenerys-Targaryen\n",
      "Stannis-Baratheon\n",
      "Tyrion-Lannister\n",
      "Theon-Greyjoy\n",
      "\n"
     ]
    }
   ],
   "source": [
    "## Using degree centrality we find out who is the central figure in book1.\n",
    "for i in range(len(books_network)):\n",
    "    print(f\"book{i+1}:\")\n",
    "    print(\"\")\n",
    "    top_5 = sorted(nx.degree_centrality(books_network[i]).items(),key=lambda item:item[1],reverse=True)[:5]\n",
    "    for x in top_5:\n",
    "        print(x[0])\n",
    "    print(\"\")"
   ]
  },
  {
   "cell_type": "markdown",
   "id": "dutch-christmas",
   "metadata": {},
   "source": [
    "## 4.2 Character evolution using degree centrality"
   ]
  },
  {
   "cell_type": "code",
   "execution_count": 188,
   "id": "solar-sixth",
   "metadata": {},
   "outputs": [],
   "source": [
    "## Stannis Baratheon we see you! We see Stannis Baratheon's importance creeping up in the books.\n",
    "## Lets follow his importance throughout the books compared to our favorite charqacters: Eddard-Stark, Tyrion-Lannister\n",
    "## Jon-Snow"
   ]
  },
  {
   "cell_type": "code",
   "execution_count": 117,
   "id": "ceramic-mistake",
   "metadata": {},
   "outputs": [],
   "source": [
    "characters=['Eddard-Stark', 'Tyrion-Lannister', 'Jon-Snow','Stannis-Baratheon','Catelyn-Stark']"
   ]
  },
  {
   "cell_type": "code",
   "execution_count": 118,
   "id": "fifty-surge",
   "metadata": {},
   "outputs": [
    {
     "data": {
      "image/png": "[encoded data removed]",
      "text/plain": [
       "<Figure size 432x288 with 1 Axes>"
      ]
     },
     "metadata": {
      "needs_background": "light"
     },
     "output_type": "display_data"
    }
   ],
   "source": [
    "centrality = [nx.degree_centrality(book) for book in books_network]\n",
    "degree_evolution=pd.DataFrame.from_records(centrality)\n",
    "degree_evolution[characters].plot()\n",
    "plt.show()"
   ]
  },
  {
   "cell_type": "markdown",
   "id": "boxed-decimal",
   "metadata": {},
   "source": [
    "## 5. Character importance using betweenness Centrality"
   ]
  },
  {
   "cell_type": "code",
   "execution_count": 191,
   "id": "welsh-trinity",
   "metadata": {},
   "outputs": [
    {
     "name": "stdout",
     "output_type": "stream",
     "text": [
      "book1:\n",
      "\n",
      "Eddard-Stark\n",
      "Robert-Baratheon\n",
      "Tyrion-Lannister\n",
      "Jon-Snow\n",
      "Catelyn-Stark\n",
      "\n",
      "book2:\n",
      "\n",
      "Arya-Stark\n",
      "Jon-Snow\n",
      "Robb-Stark\n",
      "Tyrion-Lannister\n",
      "Robert-Baratheon\n",
      "\n",
      "book3:\n",
      "\n",
      "Jon-Snow\n",
      "Robert-Baratheon\n",
      "Robb-Stark\n",
      "Tyrion-Lannister\n",
      "Joffrey-Baratheon\n",
      "\n",
      "book4:\n",
      "\n",
      "Stannis-Baratheon\n",
      "Cersei-Lannister\n",
      "Jaime-Lannister\n",
      "Balon-Greyjoy\n",
      "Sansa-Stark\n",
      "\n",
      "book5:\n",
      "\n",
      "Stannis-Baratheon\n",
      "Daenerys-Targaryen\n",
      "Jon-Snow\n",
      "Tyrion-Lannister\n",
      "Robert-Baratheon\n",
      "\n"
     ]
    }
   ],
   "source": [
    "for i in range(len(books_network)):\n",
    "    print(f\"book{i+1}:\")\n",
    "    print(\"\")\n",
    "    top_5 = sorted(nx.betweenness_centrality(books_network[i]).items(),key=lambda item:item[1],reverse=True)[:5]\n",
    "    for x in top_5:\n",
    "        print(x[0])\n",
    "    print(\"\")"
   ]
  },
  {
   "cell_type": "markdown",
   "id": "formal-wealth",
   "metadata": {},
   "source": [
    "## 5.2 Character evolution using betweenness centrality"
   ]
  },
  {
   "cell_type": "code",
   "execution_count": 122,
   "id": "published-arlington",
   "metadata": {},
   "outputs": [
    {
     "data": {
      "image/png": "[encoded data removed]",
      "text/plain": [
       "<Figure size 432x288 with 1 Axes>"
      ]
     },
     "metadata": {
      "needs_background": "light"
     },
     "output_type": "display_data"
    }
   ],
   "source": [
    "bw_centrality = [nx.betweenness_centrality(book,weight='weight') for book in books_network]\n",
    "degree_evolution=pd.DataFrame.from_records(bw_centrality)\n",
    "degree_evolution[characters].plot()\n",
    "plt.show()"
   ]
  },
  {
   "cell_type": "markdown",
   "id": "associate-playback",
   "metadata": {},
   "source": [
    "### We see Stannis Baratheon is significantly more important using weighted betweenness centrality. This could be a more accurate depiction because betweenness centrality helps find nodes which hold the network together"
   ]
  },
  {
   "cell_type": "markdown",
   "id": "front-choir",
   "metadata": {},
   "source": [
    "### -----------------------------------"
   ]
  },
  {
   "cell_type": "markdown",
   "id": "relevant-johnson",
   "metadata": {},
   "source": [
    "## 6. Character interaction using Maximal Clique Analysis: Which characters belong to Stannis Baratheon's Clique in Book 5?"
   ]
  },
  {
   "cell_type": "code",
   "execution_count": 148,
   "id": "rotary-midnight",
   "metadata": {
    "scrolled": true
   },
   "outputs": [
    {
     "name": "stdout",
     "output_type": "stream",
     "text": [
      "book1:\n",
      "\n",
      "['Eddard-Stark', 'Robert-Baratheon', 'Jon-Arryn', 'Lysa-Arryn', 'Stannis-Baratheon']\n",
      "['Eddard-Stark', 'Robert-Baratheon', 'Jon-Arryn', 'Cersei-Lannister', 'Varys', 'Stannis-Baratheon', 'Pycelle']\n",
      "['Eddard-Stark', 'Robert-Baratheon', 'Sansa-Stark', 'Jory-Cassel', 'Cersei-Lannister', 'Stannis-Baratheon']\n",
      "['Eddard-Stark', 'Robert-Baratheon', 'Sansa-Stark', 'Joffrey-Baratheon', 'Cersei-Lannister', 'Stannis-Baratheon', 'Varys', 'Pycelle', 'Renly-Baratheon']\n",
      "['Eddard-Stark', 'Robert-Baratheon', 'Tywin-Lannister', 'Joffrey-Baratheon', 'Cersei-Lannister', 'Varys', 'Pycelle', 'Stannis-Baratheon']\n",
      "\n",
      "book2:\n",
      "\n",
      "['Brienne-of-Tarth', 'Catelyn-Stark', 'Jaime-Lannister', 'Robert-Baratheon', 'Stannis-Baratheon', 'Renly-Baratheon']\n",
      "['Pylos', 'Cressen', 'Davos-Seaworth', 'Stannis-Baratheon']\n",
      "['Allard-Seaworth', 'Davos-Seaworth', 'Stannis-Baratheon']\n",
      "['Patchface', 'Stannis-Baratheon', 'Cressen']\n",
      "['Bryce-Caron', 'Stannis-Baratheon', 'Cortnay-Penrose', 'Renly-Baratheon']\n",
      "['Steffon-Baratheon', 'Renly-Baratheon', 'Stannis-Baratheon']\n",
      "['Axell-Florent', 'Selyse-Florent', 'Stannis-Baratheon']\n",
      "['Alester-Florent', 'Cortnay-Penrose', 'Stannis-Baratheon', 'Davos-Seaworth', 'Renly-Baratheon']\n",
      "['Melisandre', 'Stannis-Baratheon', 'Cressen', 'Davos-Seaworth', 'Renly-Baratheon']\n",
      "['Melisandre', 'Stannis-Baratheon', 'Cressen', 'Selyse-Florent']\n",
      "['Tyrion-Lannister', 'Cersei-Lannister', 'Shae', 'Varys', 'Stannis-Baratheon']\n",
      "['Tyrion-Lannister', 'Cersei-Lannister', 'Joffrey-Baratheon', 'Eddard-Stark', 'Robert-Baratheon', 'Robb-Stark', 'Stannis-Baratheon', 'Renly-Baratheon', 'Varys']\n",
      "['Tyrion-Lannister', 'Cersei-Lannister', 'Joffrey-Baratheon', 'Eddard-Stark', 'Robert-Baratheon', 'Robb-Stark', 'Stannis-Baratheon', 'Renly-Baratheon', 'Catelyn-Stark']\n",
      "['Tyrion-Lannister', 'Cersei-Lannister', 'Joffrey-Baratheon', 'Eddard-Stark', 'Petyr-Baelish', 'Varys', 'Stannis-Baratheon', 'Renly-Baratheon']\n",
      "['Tyrion-Lannister', 'Cersei-Lannister', 'Joffrey-Baratheon', 'Varys', 'Pycelle', 'Stannis-Baratheon', 'Robert-Baratheon']\n",
      "['Tyrion-Lannister', 'Cersei-Lannister', 'Joffrey-Baratheon', 'Varys', 'Pycelle', 'Stannis-Baratheon', 'Petyr-Baelish']\n",
      "['Tyrion-Lannister', 'Cersei-Lannister', 'Joffrey-Baratheon', 'Varys', 'Bronn', 'Stannis-Baratheon']\n",
      "['Tyrion-Lannister', 'Cersei-Lannister', 'Joffrey-Baratheon', 'Tywin-Lannister', 'Robert-Baratheon', 'Robb-Stark', 'Jaime-Lannister', 'Renly-Baratheon', 'Catelyn-Stark', 'Stannis-Baratheon']\n",
      "['Tyrion-Lannister', 'Cersei-Lannister', 'Joffrey-Baratheon', 'Sansa-Stark', 'Robert-Baratheon', 'Robb-Stark', 'Jaime-Lannister', 'Renly-Baratheon', 'Catelyn-Stark', 'Stannis-Baratheon']\n",
      "['Tyrion-Lannister', 'Cersei-Lannister', 'Joffrey-Baratheon', 'Sansa-Stark', 'Petyr-Baelish', 'Renly-Baratheon', 'Stannis-Baratheon', 'Jaime-Lannister']\n",
      "['Tyrion-Lannister', 'Cortnay-Penrose', 'Varys', 'Stannis-Baratheon', 'Renly-Baratheon']\n",
      "['Tyrion-Lannister', 'Loras-Tyrell', 'Robert-Baratheon', 'Renly-Baratheon', 'Joffrey-Baratheon', 'Catelyn-Stark', 'Stannis-Baratheon']\n",
      "['Tyrion-Lannister', 'Dontos-Hollard', 'Joffrey-Baratheon', 'Sansa-Stark', 'Stannis-Baratheon']\n",
      "['Cressen', 'Stannis-Baratheon', 'Robert-Baratheon', 'Renly-Baratheon']\n",
      "['Salladhor-Saan', 'Davos-Seaworth', 'Stannis-Baratheon']\n",
      "['Monford-Velaryon', 'Davos-Seaworth', 'Stannis-Baratheon']\n",
      "['Mace-Tyrell', 'Stannis-Baratheon', 'Renly-Baratheon', 'Loras-Tyrell', 'Joffrey-Baratheon']\n",
      "['Mace-Tyrell', 'Stannis-Baratheon', 'Renly-Baratheon', 'Randyll-Tarly']\n",
      "['Randyll-Tarly', 'Catelyn-Stark', 'Mathis-Rowan', 'Stannis-Baratheon', 'Renly-Baratheon']\n",
      "['Davos-Seaworth', 'Devan-Seaworth', 'Renly-Baratheon', 'Stannis-Baratheon']\n",
      "\n",
      "book3:\n",
      "\n",
      "['Pylos', 'Stannis-Baratheon', 'Davos-Seaworth', 'Shireen-Baratheon', 'Edric-Storm']\n",
      "['Pylos', 'Stannis-Baratheon', 'Davos-Seaworth', 'Devan-Seaworth']\n",
      "['Jon-Snow', 'Robb-Stark', 'Stannis-Baratheon', 'Joffrey-Baratheon']\n",
      "['Jon-Snow', 'Melisandre', 'Stannis-Baratheon', 'Samwell-Tarly']\n",
      "['Jon-Snow', 'Melisandre', 'Stannis-Baratheon', 'Joffrey-Baratheon']\n",
      "['Jon-Snow', 'Robert-Baratheon', 'Aemon-Targaryen-(Maester-Aemon)', 'Stannis-Baratheon']\n",
      "['Jon-Snow', 'Robert-Baratheon', 'Stannis-Baratheon', 'Joffrey-Baratheon']\n",
      "['Jon-Snow', 'Cotter-Pyke', 'Aemon-Targaryen-(Maester-Aemon)', 'Samwell-Tarly', 'Stannis-Baratheon']\n",
      "['Jon-Snow', 'Stannis-Baratheon', 'Aemon-Targaryen-(Maester-Aemon)', 'Alliser-Thorne', 'Janos-Slynt', 'Samwell-Tarly']\n",
      "['Jon-Snow', 'Stannis-Baratheon', 'Aemon-Targaryen-(Maester-Aemon)', 'Donal-Noye']\n",
      "['Edric-Storm', 'Stannis-Baratheon', 'Robert-Baratheon']\n",
      "['Shireen-Baratheon', 'Stannis-Baratheon', 'Joffrey-Baratheon', 'Tommen-Baratheon']\n",
      "['Shireen-Baratheon', 'Stannis-Baratheon', 'Joffrey-Baratheon', 'Davos-Seaworth']\n",
      "['Axell-Florent', 'Davos-Seaworth', 'Stannis-Baratheon', 'Selyse-Florent', 'Alester-Florent']\n",
      "['Axell-Florent', 'Davos-Seaworth', 'Stannis-Baratheon', 'Selyse-Florent', 'Melisandre']\n",
      "['Axell-Florent', 'Davos-Seaworth', 'Stannis-Baratheon', 'Salladhor-Saan', 'Melisandre']\n",
      "['Khorane-Sathmantes', 'Davos-Seaworth', 'Stannis-Baratheon', 'Salladhor-Saan']\n",
      "['Melisandre', 'Stannis-Baratheon', 'Joffrey-Baratheon', 'Selyse-Florent', 'Davos-Seaworth']\n",
      "['Tyrion-Lannister', 'Janos-Slynt', 'Stannis-Baratheon']\n",
      "['Tyrion-Lannister', 'Joffrey-Baratheon', 'Stannis-Baratheon', 'Mace-Tyrell', 'Tywin-Lannister']\n",
      "['Tyrion-Lannister', 'Joffrey-Baratheon', 'Stannis-Baratheon', 'Jaime-Lannister', 'Renly-Baratheon', 'Robert-Baratheon']\n",
      "['Tyrion-Lannister', 'Joffrey-Baratheon', 'Stannis-Baratheon', 'Jaime-Lannister', 'Catelyn-Stark', 'Robb-Stark']\n",
      "['Tyrion-Lannister', 'Joffrey-Baratheon', 'Stannis-Baratheon', 'Jaime-Lannister', 'Tywin-Lannister', 'Robb-Stark']\n",
      "['Tyrion-Lannister', 'Joffrey-Baratheon', 'Stannis-Baratheon', 'Jaime-Lannister', 'Tywin-Lannister', 'Tommen-Baratheon']\n",
      "['Tyrion-Lannister', 'Joffrey-Baratheon', 'Stannis-Baratheon', 'Jaime-Lannister', 'Tywin-Lannister', 'Robert-Baratheon']\n",
      "['Azor-Ahai', 'Stannis-Baratheon']\n",
      "['Aegon-I-Targaryen', 'Stannis-Baratheon']\n",
      "['Balon-Greyjoy', 'Robb-Stark', 'Tywin-Lannister', 'Stannis-Baratheon']\n",
      "\n",
      "book4:\n",
      "\n",
      "['Jon-Snow', 'Eddard-Stark', 'Cersei-Lannister', 'Stannis-Baratheon']\n",
      "['Jon-Snow', 'Samwell-Tarly', 'Stannis-Baratheon']\n",
      "['Orton-Merryweather', 'Cersei-Lannister', 'Harys-Swyft', 'Stannis-Baratheon', 'Tommen-Baratheon', 'Aurane-Waters']\n",
      "['Orton-Merryweather', 'Cersei-Lannister', 'Harys-Swyft', 'Stannis-Baratheon', 'Pycelle']\n",
      "['Roose-Bolton', 'Stannis-Baratheon']\n",
      "['Stannis-Baratheon', 'Cersei-Lannister', 'Tommen-Baratheon', 'Osney-Kettleblack']\n",
      "['Stannis-Baratheon', 'Cersei-Lannister', 'Tommen-Baratheon', 'Tyrion-Lannister', 'Robert-Baratheon']\n",
      "['Stannis-Baratheon', 'Cersei-Lannister', 'Tommen-Baratheon', 'Tyrion-Lannister', 'Tywin-Lannister', 'Mace-Tyrell']\n",
      "['Stannis-Baratheon', 'Cersei-Lannister', 'Tommen-Baratheon', 'Tyrion-Lannister', 'Tywin-Lannister', 'Kevan-Lannister']\n",
      "['Stannis-Baratheon', 'Cersei-Lannister', 'Eddard-Stark', 'Robert-Baratheon', 'Tyrion-Lannister']\n",
      "['Stannis-Baratheon', 'Cersei-Lannister', 'Eddard-Stark', 'Pycelle']\n",
      "['Stannis-Baratheon', 'Cersei-Lannister', 'Pycelle', 'Qyburn']\n",
      "['Stannis-Baratheon', 'Cersei-Lannister', 'Pycelle', 'Tywin-Lannister']\n",
      "['Stannis-Baratheon', 'Balon-Greyjoy']\n",
      "['Stannis-Baratheon', 'Melisandre']\n",
      "['Stannis-Baratheon', 'Renly-Baratheon', 'Robert-Baratheon']\n",
      "\n",
      "book5:\n",
      "\n",
      "['Arnolf-Karstark', 'Stannis-Baratheon', 'Asha-Greyjoy']\n",
      "['Arnolf-Karstark', 'Stannis-Baratheon', 'Mors-Umber']\n",
      "['Robett-Glover', 'Davos-Seaworth', 'Stannis-Baratheon']\n",
      "['Richard-Horpe', 'Justin-Massey', 'Stannis-Baratheon']\n",
      "['Lyanna-Mormont', 'Stannis-Baratheon']\n",
      "['Justin-Massey', 'Stannis-Baratheon', 'Asha-Greyjoy', 'Alysane-Mormont']\n",
      "['Justin-Massey', 'Stannis-Baratheon', 'Asha-Greyjoy', 'Godry-Farring']\n",
      "['Barbrey-Dustin', 'Theon-Greyjoy', 'Roose-Bolton', 'Ramsay-Snow', 'Stannis-Baratheon']\n",
      "['Jon-Snow', 'Stannis-Baratheon', 'Aemon-Targaryen-(Maester-Aemon)', 'Clydas']\n",
      "['Jon-Snow', 'Stannis-Baratheon', 'Aemon-Targaryen-(Maester-Aemon)', 'Samwell-Tarly']\n",
      "['Jon-Snow', 'Stannis-Baratheon', 'Eddard-Stark', 'Robb-Stark']\n",
      "['Jon-Snow', 'Stannis-Baratheon', 'Tycho-Nestoris']\n",
      "['Jon-Snow', 'Stannis-Baratheon', 'Shireen-Baratheon', 'Selyse-Florent', 'Axell-Florent']\n",
      "['Jon-Snow', 'Stannis-Baratheon', 'Shireen-Baratheon', 'Selyse-Florent', 'Val']\n",
      "['Jon-Snow', 'Stannis-Baratheon', 'Val', 'Mance-Rayder']\n",
      "['Jon-Snow', 'Stannis-Baratheon', 'Melisandre', 'Mance-Rayder', 'Godry-Farring']\n",
      "['Jon-Snow', 'Stannis-Baratheon', 'Melisandre', 'Sigorn']\n",
      "['Jon-Snow', 'Stannis-Baratheon', 'Melisandre', 'Devan-Seaworth']\n",
      "['Jon-Snow', 'Stannis-Baratheon', 'Melisandre', 'Selyse-Florent', 'Axell-Florent']\n",
      "['Jon-Snow', 'Stannis-Baratheon', 'Bowen-Marsh', 'Mance-Rayder']\n",
      "['Asha-Greyjoy', 'Stannis-Baratheon', 'Clayton-Suggs', 'Godry-Farring']\n",
      "['Asha-Greyjoy', 'Stannis-Baratheon', 'Robert-Baratheon']\n",
      "['Asha-Greyjoy', 'Stannis-Baratheon', 'Theon-Greyjoy']\n",
      "['Asha-Greyjoy', 'Stannis-Baratheon', 'Tycho-Nestoris']\n",
      "['Theomore', 'Wyman-Manderly', 'Stannis-Baratheon']\n",
      "['Roose-Bolton', 'Theon-Greyjoy', 'Eddard-Stark', 'Wyman-Manderly', 'Ramsay-Snow', 'Stannis-Baratheon']\n",
      "['Ramsay-Snow', 'Theon-Greyjoy', 'Mance-Rayder', 'Stannis-Baratheon']\n",
      "['Robert-Baratheon', 'Eddard-Stark', 'Stannis-Baratheon']\n",
      "['Robert-Baratheon', 'Cersei-Lannister', 'Stannis-Baratheon', 'Tommen-Baratheon']\n",
      "['Robert-Baratheon', 'Cersei-Lannister', 'Stannis-Baratheon', 'Tywin-Lannister']\n",
      "['Robert-Baratheon', 'Val', 'Stannis-Baratheon']\n",
      "['William-Foxglove', 'Stannis-Baratheon']\n",
      "['Marya-Seaworth', 'Stannis-Baratheon']\n",
      "['Tyrion-Lannister', 'Stannis-Baratheon', 'Cersei-Lannister', 'Myrcella-Baratheon']\n",
      "['Tyrion-Lannister', 'Stannis-Baratheon', 'Cersei-Lannister', 'Tywin-Lannister']\n",
      "['Salladhor-Saan', 'Davos-Seaworth', 'Stannis-Baratheon']\n",
      "['Azor-Ahai', 'Stannis-Baratheon']\n",
      "['Marlon-Manderly', 'Davos-Seaworth', 'Stannis-Baratheon']\n",
      "['Wyman-Manderly', 'Eddard-Stark', 'Stannis-Baratheon', 'Robb-Stark', 'Davos-Seaworth']\n",
      "['Wyman-Manderly', 'Eddard-Stark', 'Stannis-Baratheon', 'Robb-Stark', 'Theon-Greyjoy']\n",
      "['Tommen-Baratheon', 'Cersei-Lannister', 'Myrcella-Baratheon', 'Stannis-Baratheon']\n",
      "['Davos-Seaworth', 'Stannis-Baratheon', 'Melisandre']\n",
      "['Corliss-Penny', 'Stannis-Baratheon']\n",
      "['Dalla', 'Mance-Rayder', 'Melisandre', 'Stannis-Baratheon']\n",
      "['Dalla', 'Mance-Rayder', 'Val', 'Stannis-Baratheon']\n",
      "['Roose-Ryswell', 'Stannis-Baratheon']\n",
      "\n"
     ]
    }
   ],
   "source": [
    "for i in range(len(books_network)):\n",
    "    clique=list(nx.find_cliques(books_network[i]))\n",
    "    stannis = [c for c in clique if \"Stannis-Baratheon\" in c]\n",
    "    print(f\"book{i+1}:\\n\")\n",
    "    for s in stannis:\n",
    "        print(s)\n",
    "    print(\"\")"
   ]
  },
  {
   "cell_type": "markdown",
   "id": "introductory-george",
   "metadata": {},
   "source": [
    "## 6.1 Observations from Maximal Clique analysis "
   ]
  },
  {
   "cell_type": "code",
   "execution_count": 262,
   "id": "sharp-cardiff",
   "metadata": {},
   "outputs": [],
   "source": [
    "## Its refreshing to see that the above identified communities follow closely with the story.\n",
    "## Although each clique follows its own story line, I have tried to give overall summary here"
   ]
  },
  {
   "cell_type": "code",
   "execution_count": 263,
   "id": "worst-alaska",
   "metadata": {},
   "outputs": [],
   "source": [
    "## 1. From First book we can see that Stannis is mentioned the most with Robert,Eddard, Jon and Lysa. \n",
    "## Stannis was Robert's brother; Robert and Eddard were Jon's wards. Jon and lysa are married. \n",
    "## When Robert dies, Eddard wants Stannis to take the throne and hence he is mentioned a lot in conjunction to Eddard.\n",
    "\n",
    "##2. In book 2 we see stannis interacting with a lot more characters, as the lannisters tries to device a plan to take his throne\n",
    "## He also has his most loyal supported Davos Seaworth who creeps up in most of the identified cliques\n",
    "\n",
    "##3. In book 3 - did anyone notice the relationship between Azor-Ahai and Stannis? ;) Stannis is considered Azor-Ahai\n",
    "## and he is also introduced to Mellisandre a witch who helps him in the war to retake his rightful throne\n",
    "\n",
    "##4. In book 4 - Stannis is at Castle Black! Hence we see a lot of his interaction with Jon-Snow. \n",
    "### Cersei in this book, tries to kill Stannis to avenge her father(who she believes was murdered by Stannis). Hence we see a lot of Cersei!\n",
    "\n",
    "##5. In book 5- We again see increase in character interaction with stannis since now he is marching \n",
    "## on advice of Jon Snow\n"
   ]
  },
  {
   "cell_type": "markdown",
   "id": "integrated-graph",
   "metadata": {},
   "source": [
    "## Visualising Stannis Baratheon's neighbors throughout the books"
   ]
  },
  {
   "cell_type": "code",
   "execution_count": 231,
   "id": "satellite-quality",
   "metadata": {},
   "outputs": [],
   "source": [
    "## Book 1 \n",
    "## If we zoom in we do see the maximal cliques defined above"
   ]
  },
  {
   "cell_type": "code",
   "execution_count": 247,
   "id": "ambient-lawyer",
   "metadata": {},
   "outputs": [
    {
     "data": {
      "text/html": [
       "\n",
       "        <iframe\n",
       "            width=\"500px\"\n",
       "            height=\"500px\"\n",
       "            src=\"book1.html\"\n",
       "            frameborder=\"0\"\n",
       "            allowfullscreen\n",
       "        ></iframe>\n",
       "        "
      ],
      "text/plain": [
       "<IPython.lib.display.IFrame at 0x7fd44eac50d0>"
      ]
     },
     "execution_count": 247,
     "metadata": {},
     "output_type": "execute_result"
    }
   ],
   "source": [
    "nodes=list(books_network[0].neighbors('Stannis-Baratheon'))\n",
    "nodes.append('Stannis-Baratheon')\n",
    "net=Network(notebook=True)\n",
    "net.from_nx(books_network[0].subgraph(nodes))\n",
    "net.show(\"book1.html\")"
   ]
  },
  {
   "cell_type": "code",
   "execution_count": 238,
   "id": "linear-preliminary",
   "metadata": {},
   "outputs": [],
   "source": [
    "## Book 2\n",
    "## If we zoom in we do see the maximal cliques defined above"
   ]
  },
  {
   "cell_type": "code",
   "execution_count": 248,
   "id": "found-bermuda",
   "metadata": {},
   "outputs": [
    {
     "data": {
      "text/html": [
       "\n",
       "        <iframe\n",
       "            width=\"500px\"\n",
       "            height=\"500px\"\n",
       "            src=\"book2.html\"\n",
       "            frameborder=\"0\"\n",
       "            allowfullscreen\n",
       "        ></iframe>\n",
       "        "
      ],
      "text/plain": [
       "<IPython.lib.display.IFrame at 0x7fd44e3b3a90>"
      ]
     },
     "execution_count": 248,
     "metadata": {},
     "output_type": "execute_result"
    }
   ],
   "source": [
    "nodes=list(books_network[1].neighbors('Stannis-Baratheon'))\n",
    "nodes.append('Stannis-Baratheon')\n",
    "net=Network(notebook=True)\n",
    "net.from_nx(books_network[1].subgraph(nodes))\n",
    "net.show(\"book2.html\")"
   ]
  },
  {
   "cell_type": "code",
   "execution_count": 240,
   "id": "wireless-antenna",
   "metadata": {},
   "outputs": [],
   "source": [
    "## Book 3\n",
    "## If we zoom in we do see the maximal cliques defined above"
   ]
  },
  {
   "cell_type": "code",
   "execution_count": 249,
   "id": "incorrect-louisville",
   "metadata": {},
   "outputs": [
    {
     "data": {
      "text/html": [
       "\n",
       "        <iframe\n",
       "            width=\"500px\"\n",
       "            height=\"500px\"\n",
       "            src=\"book3.html\"\n",
       "            frameborder=\"0\"\n",
       "            allowfullscreen\n",
       "        ></iframe>\n",
       "        "
      ],
      "text/plain": [
       "<IPython.lib.display.IFrame at 0x7fd44d443460>"
      ]
     },
     "execution_count": 249,
     "metadata": {},
     "output_type": "execute_result"
    }
   ],
   "source": [
    "nodes=list(books_network[2].neighbors('Stannis-Baratheon'))\n",
    "nodes.append('Stannis-Baratheon')\n",
    "net=Network(notebook=True)\n",
    "net.from_nx(books_network[2].subgraph(nodes))\n",
    "net.show(\"book3.html\")"
   ]
  },
  {
   "cell_type": "code",
   "execution_count": 243,
   "id": "equivalent-stake",
   "metadata": {},
   "outputs": [],
   "source": [
    "## Book 4\n",
    "## If we zoom in we do see the maximal cliques defined above"
   ]
  },
  {
   "cell_type": "code",
   "execution_count": 251,
   "id": "mediterranean-trade",
   "metadata": {},
   "outputs": [
    {
     "data": {
      "text/html": [
       "\n",
       "        <iframe\n",
       "            width=\"500px\"\n",
       "            height=\"500px\"\n",
       "            src=\"book4.html\"\n",
       "            frameborder=\"0\"\n",
       "            allowfullscreen\n",
       "        ></iframe>\n",
       "        "
      ],
      "text/plain": [
       "<IPython.lib.display.IFrame at 0x7fd44bb889d0>"
      ]
     },
     "execution_count": 251,
     "metadata": {},
     "output_type": "execute_result"
    }
   ],
   "source": [
    "nodes=list(books_network[3].neighbors('Stannis-Baratheon'))\n",
    "nodes.append('Stannis-Baratheon')\n",
    "net=Network(notebook=True)\n",
    "net.from_nx(books_network[3].subgraph(nodes))\n",
    "net.show(\"book4.html\")"
   ]
  },
  {
   "cell_type": "code",
   "execution_count": 252,
   "id": "logical-ticket",
   "metadata": {},
   "outputs": [],
   "source": [
    "## Book5"
   ]
  },
  {
   "cell_type": "code",
   "execution_count": 253,
   "id": "pursuant-interface",
   "metadata": {},
   "outputs": [
    {
     "data": {
      "text/html": [
       "\n",
       "        <iframe\n",
       "            width=\"500px\"\n",
       "            height=\"500px\"\n",
       "            src=\"book4.html\"\n",
       "            frameborder=\"0\"\n",
       "            allowfullscreen\n",
       "        ></iframe>\n",
       "        "
      ],
      "text/plain": [
       "<IPython.lib.display.IFrame at 0x7fd469efe040>"
      ]
     },
     "execution_count": 253,
     "metadata": {},
     "output_type": "execute_result"
    }
   ],
   "source": [
    "nodes=list(books_network[4].neighbors('Stannis-Baratheon'))\n",
    "nodes.append('Stannis-Baratheon')\n",
    "net=Network(notebook=True)\n",
    "net.from_nx(books_network[4].subgraph(nodes))\n",
    "net.show(\"book4.html\")"
   ]
  },
  {
   "cell_type": "code",
   "execution_count": null,
   "id": "broad-collect",
   "metadata": {},
   "outputs": [],
   "source": []
  }
 ],
 "metadata": {
  "kernelspec": {
   "display_name": "Python 3",
   "language": "python",
   "name": "python3"
  },
  "language_info": {
   "codemirror_mode": {
    "name": "ipython",
    "version": 3
   },
   "file_extension": ".py",
   "mimetype": "text/x-python",
   "name": "python",
   "nbconvert_exporter": "python",
   "pygments_lexer": "ipython3",
   "version": "3.8.8"
  },
  "latex_envs": {
   "LaTeX_envs_menu_present": true,
   "autoclose": false,
   "autocomplete": true,
   "bibliofile": "biblio.bib",
   "cite_by": "apalike",
   "current_citInitial": 1,
   "eqLabelWithNumbers": true,
   "eqNumInitial": 1,
   "hotkeys": {
    "equation": "Ctrl-E",
    "itemize": "Ctrl-I"
   },
   "labels_anchors": false,
   "latex_user_defs": false,
   "report_style_numbering": false,
   "user_envs_cfg": false
  }
 },
 "nbformat": 4,
 "nbformat_minor": 5
}
